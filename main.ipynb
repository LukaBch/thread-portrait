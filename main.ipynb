{
 "cells": [
  {
   "cell_type": "code",
   "execution_count": null,
   "id": "unusual-pricing",
   "metadata": {},
   "outputs": [],
   "source": [
    "import numpy as np\n",
    "import matplotlib.pyplot as plt\n",
    "import matplotlib.image as mpimg\n",
    "import math "
   ]
  },
  {
   "cell_type": "code",
   "execution_count": null,
   "id": "accepting-eight",
   "metadata": {},
   "outputs": [],
   "source": [
    "def rgb2gray(rgb):\n",
    "    return np.dot(rgb[...,:3], [0.2989, 0.5870, 0.1140])"
   ]
  },
  {
   "cell_type": "code",
   "execution_count": null,
   "id": "comprehensive-tsunami",
   "metadata": {},
   "outputs": [],
   "source": [
    "img = mpimg.imread('joconde.jpg')  "
   ]
  },
  {
   "cell_type": "code",
   "execution_count": null,
   "id": "defined-colorado",
   "metadata": {},
   "outputs": [],
   "source": [
    "gray = rgb2gray(img)"
   ]
  },
  {
   "cell_type": "code",
   "execution_count": null,
   "id": "extreme-consequence",
   "metadata": {},
   "outputs": [],
   "source": [
    "gray_tmp = np.copy(gray)"
   ]
  },
  {
   "cell_type": "code",
   "execution_count": null,
   "id": "incredible-belle",
   "metadata": {},
   "outputs": [],
   "source": [
    "plt.imshow(gray, cmap=plt.get_cmap('gray'))\n",
    "plt.show()"
   ]
  },
  {
   "cell_type": "code",
   "execution_count": null,
   "id": "integrated-showcase",
   "metadata": {},
   "outputs": [],
   "source": [
    "plt.imshow(img)\n",
    "plt.show()"
   ]
  },
  {
   "cell_type": "code",
   "execution_count": null,
   "id": "arbitrary-probe",
   "metadata": {},
   "outputs": [],
   "source": [
    "def crop_image_circle(image,center,radius):\n",
    "    gray_tmp = np.copy(gray)\n",
    "    center = [350,470]\n",
    "    radius = 300\n",
    "    for i in range(gray_tmp.shape[0]):\n",
    "        for j in range(gray_tmp.shape[1]):\n",
    "            distance_2 = math.sqrt(pow(center[0]-i,2) + pow(center[1]-j,2))\n",
    "            if distance_2 > radius:\n",
    "                gray_tmp[i][j] = 255\n",
    "    return gray_tmp"
   ]
  },
  {
   "cell_type": "code",
   "execution_count": null,
   "id": "otherwise-twelve",
   "metadata": {},
   "outputs": [],
   "source": [
    "plt.imshow(crop_image_circle(gray,center,radius), cmap=plt.get_cmap('gray'))\n",
    "plt.show()"
   ]
  },
  {
   "cell_type": "code",
   "execution_count": null,
   "id": "previous-battle",
   "metadata": {},
   "outputs": [],
   "source": [
    "def generate_nail_positions(center, radius, number):\n",
    "    x = [center[0] + radius*math.cos(n*2*math.pi/number) for n in range(number)]\n",
    "    y = [center[1] + radius*math.sin(n*2*math.pi/number) for n in range(number)]\n",
    "    return [[int(x[i]),int(y[i])] for i in range(number)]"
   ]
  },
  {
   "cell_type": "code",
   "execution_count": null,
   "id": "afraid-synthesis",
   "metadata": {},
   "outputs": [],
   "source": [
    "generate_nail_positions([0,0],6,8)"
   ]
  },
  {
   "cell_type": "code",
   "execution_count": null,
   "id": "floral-robin",
   "metadata": {},
   "outputs": [],
   "source": [
    "gray_tmp = np.copy(gray)"
   ]
  },
  {
   "cell_type": "code",
   "execution_count": null,
   "id": "turned-trader",
   "metadata": {},
   "outputs": [],
   "source": [
    "def add_line(line, image):\n",
    "    max_x = max(line[0][0],line[1][0])\n",
    "    max_y = max(line[0][1],line[1][1])\n",
    "    min_x = min(line[0][0],line[1][0])\n",
    "    min_y = min(line[0][1],line[1][1])\n",
    "    tmp = np.copy(image)\n",
    "    for i in range(tmp.shape[0]):\n",
    "        for j in range(tmp.shape[1]):\n",
    "            if i > max_x + 0.5:\n",
    "                continue\n",
    "            if j > max_y + 0.5:\n",
    "                continue\n",
    "            if i < min_x - 0.5:\n",
    "                continue\n",
    "            if j < min_y - 0.5:\n",
    "                continue\n",
    "            distance = distance_point_line([i,j],line)\n",
    "            if distance < 0.5:\n",
    "                tmp[i][j] = 0\n",
    "    return tmp\n",
    "                "
   ]
  },
  {
   "cell_type": "code",
   "execution_count": null,
   "id": "opposite-bookmark",
   "metadata": {},
   "outputs": [],
   "source": [
    "line = [[50,600],[200,800]]\n",
    "plt.imshow(add_line(line,gray_tmp), cmap=plt.get_cmap('gray'))\n",
    "plt.show()"
   ]
  },
  {
   "cell_type": "code",
   "execution_count": null,
   "id": "gothic-weekend",
   "metadata": {},
   "outputs": [],
   "source": [
    "def distance_point_line(point,line):\n",
    "    point1 = line[0]\n",
    "    point2 = line[1]\n",
    "    if (abs(point2[0]-point1[0])>0.0001):\n",
    "        delta = (point2[1]-point1[1]) / (point2[0]-point1[0])\n",
    "        a = -delta\n",
    "        b = 1\n",
    "        c = point1[0]*delta-point1[1]\n",
    "        distance = abs(a*point[0]+b*point[1]+c)/math.sqrt(pow(a,2)+pow(b,2))\n",
    "    else:\n",
    "        # vertical line\n",
    "        distance = abs(point[0]-point1[0])\n",
    "    return distance"
   ]
  },
  {
   "cell_type": "code",
   "execution_count": null,
   "id": "periodic-afghanistan",
   "metadata": {},
   "outputs": [],
   "source": [
    "distance_point_line([1,2],[[0,0],[0,3]])"
   ]
  },
  {
   "cell_type": "code",
   "execution_count": null,
   "id": "virgin-comment",
   "metadata": {},
   "outputs": [],
   "source": [
    "point = [1,1]\n",
    "line = "
   ]
  }
 ],
 "metadata": {
  "kernelspec": {
   "display_name": "Python 3",
   "language": "python",
   "name": "python3"
  },
  "language_info": {
   "codemirror_mode": {
    "name": "ipython",
    "version": 3
   },
   "file_extension": ".py",
   "mimetype": "text/x-python",
   "name": "python",
   "nbconvert_exporter": "python",
   "pygments_lexer": "ipython3",
   "version": "3.6.9"
  }
 },
 "nbformat": 4,
 "nbformat_minor": 5
}
