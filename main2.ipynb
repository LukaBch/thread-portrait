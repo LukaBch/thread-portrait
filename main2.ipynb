{
 "cells": [
  {
   "cell_type": "code",
   "execution_count": null,
   "id": "similar-export",
   "metadata": {},
   "outputs": [],
   "source": [
    "import numpy as np\n",
    "import matplotlib.pyplot as plt\n",
    "import matplotlib.image as mpimg\n",
    "import math \n",
    "import time"
   ]
  },
  {
   "cell_type": "code",
   "execution_count": null,
   "id": "elementary-veteran",
   "metadata": {},
   "outputs": [],
   "source": [
    "img = mpimg.imread('joconde.jpg')  "
   ]
  },
  {
   "cell_type": "code",
   "execution_count": null,
   "id": "spare-services",
   "metadata": {},
   "outputs": [],
   "source": [
    "plt.imshow(img)\n",
    "plt.show()"
   ]
  },
  {
   "cell_type": "code",
   "execution_count": null,
   "id": "dental-happening",
   "metadata": {},
   "outputs": [],
   "source": [
    "def rgb2gray(rgb):\n",
    "    return np.dot(rgb[...,:3], [0.2989, 0.5870, 0.1140])"
   ]
  },
  {
   "cell_type": "code",
   "execution_count": null,
   "id": "looking-charity",
   "metadata": {},
   "outputs": [],
   "source": [
    "gray = rgb2gray(img)"
   ]
  },
  {
   "cell_type": "code",
   "execution_count": null,
   "id": "instant-stationery",
   "metadata": {},
   "outputs": [],
   "source": [
    "def plot_gray(img):\n",
    "    plt.imshow(img, cmap='gray')\n",
    "    plt.show()"
   ]
  },
  {
   "cell_type": "code",
   "execution_count": null,
   "id": "alternative-blank",
   "metadata": {},
   "outputs": [],
   "source": [
    "plot_gray(gray)"
   ]
  },
  {
   "cell_type": "code",
   "execution_count": null,
   "id": "accepted-criminal",
   "metadata": {},
   "outputs": [],
   "source": [
    "def crop_image_circle(image,center,radius):\n",
    "    gray_tmp = np.copy(image)\n",
    "    for i in range(gray_tmp.shape[0]):\n",
    "        for j in range(gray_tmp.shape[1]):\n",
    "            distance_2 = math.sqrt(pow(center[0]-i,2) + pow(center[1]-j,2))\n",
    "            if distance_2 > radius:\n",
    "                gray_tmp[i][j] = 255\n",
    "    return gray_tmp"
   ]
  },
  {
   "cell_type": "code",
   "execution_count": null,
   "id": "frequent-tension",
   "metadata": {},
   "outputs": [],
   "source": [
    "center = [350,470]\n",
    "radius = 300"
   ]
  },
  {
   "cell_type": "code",
   "execution_count": null,
   "id": "polish-battery",
   "metadata": {},
   "outputs": [],
   "source": [
    "gray_crop = crop_image_circle(gray,center,radius)"
   ]
  },
  {
   "cell_type": "code",
   "execution_count": null,
   "id": "owned-canon",
   "metadata": {},
   "outputs": [],
   "source": [
    "plot_gray(gray_crop)"
   ]
  },
  {
   "cell_type": "code",
   "execution_count": null,
   "id": "sticky-fishing",
   "metadata": {},
   "outputs": [],
   "source": [
    "gray_crop[200][800]"
   ]
  },
  {
   "cell_type": "code",
   "execution_count": null,
   "id": "demographic-customer",
   "metadata": {},
   "outputs": [],
   "source": [
    "def generate_nail_positions(center, radius, number):\n",
    "    x = [center[0] + radius*math.cos(n*2*math.pi/number) for n in range(number)]\n",
    "    y = [center[1] + radius*math.sin(n*2*math.pi/number) for n in range(number)]\n",
    "    res = {}\n",
    "    for i in range(number):\n",
    "        res[i] = [int(x[i]),int(y[i])]\n",
    "    return res"
   ]
  },
  {
   "cell_type": "code",
   "execution_count": null,
   "id": "genuine-remove",
   "metadata": {},
   "outputs": [],
   "source": [
    "def generate_line_matrix(line,shape):\n",
    "    line_matrix = 255*np.ones(shape=(shape[0],shape[1]))\n",
    "    point1 = line[0]\n",
    "    point2 = line[1]\n",
    "    if abs(point2[0]-point1[0]) > 0.001:\n",
    "        a = (point2[1]-point1[1])/(point2[0]-point1[0])\n",
    "        b = point1[1]-a*point1[0]\n",
    "        x = [i for i in range(min(point1[0],point2[0]),max(point1[0],point2[0])+1)]\n",
    "        y = [round(a*i+b) for i in x]\n",
    "        for x_ in x:\n",
    "            y_ = round(a*x_+b)\n",
    "            line_matrix[x_][y_] = 0\n",
    "    else:\n",
    "        if abs(point2[1]-point1[1]) < 0.001:\n",
    "            print('none')\n",
    "            return None\n",
    "        y = [i for i in range(min(point1[1],point2[1]),max(point1[1],point2[1])+1)]\n",
    "        for y_ in y:\n",
    "            line_matrix[point1[0]][y_] = 0        \n",
    "    return line_matrix"
   ]
  },
  {
   "cell_type": "code",
   "execution_count": null,
   "id": "fantastic-strike",
   "metadata": {},
   "outputs": [],
   "source": [
    "line=[[500,600],[70,150]]\n",
    "plot_gray(generate_line_matrix(line,gray.shape))"
   ]
  },
  {
   "cell_type": "code",
   "execution_count": null,
   "id": "hidden-conditioning",
   "metadata": {},
   "outputs": [],
   "source": [
    "def add_line(current_idx,next_idx, nail_positions, image, line_dict):\n",
    "    a = min(current_idx,next_idx)\n",
    "    b = max(current_idx,next_idx)\n",
    "    key = str(a)+'_'+str(b)\n",
    "    if key not in line_dict.keys():\n",
    "        line = [nail_positions[current_idx],nail_positions[next_idx]]\n",
    "        line_dict[key] = generate_line_matrix(line,image.shape)\n",
    "    return np.multiply(image,line_dict[key])"
   ]
  },
  {
   "cell_type": "code",
   "execution_count": null,
   "id": "unlimited-arthritis",
   "metadata": {},
   "outputs": [],
   "source": [
    "def distance_image(image1, image2):\n",
    "    return np.linalg.norm(image1-image2)"
   ]
  },
  {
   "cell_type": "code",
   "execution_count": null,
   "id": "reduced-carter",
   "metadata": {},
   "outputs": [],
   "source": [
    "def possible_next_nails(idx, nail_number, threshold = 10):\n",
    "    # 0 <= idx <= nail_number-1\n",
    "    if (idx>=nail_number):\n",
    "        print('pb')\n",
    "        return []\n",
    "    if ((idx>=threshold) and (idx+threshold<nail_number)):\n",
    "        left = [i for i in range(1,idx-threshold)]\n",
    "        right = [i for i in range(idx+threshold+1,nail_number)]\n",
    "        result = left + right\n",
    "    elif (idx<=threshold):\n",
    "        result = [i for i in range(idx+threshold+1,nail_number-threshold+idx)]\n",
    "    elif (idx>=nail_number-threshold):\n",
    "        result = [i for i in range(threshold,idx-threshold)]\n",
    "    return result   "
   ]
  },
  {
   "cell_type": "code",
   "execution_count": null,
   "id": "documented-elimination",
   "metadata": {},
   "outputs": [],
   "source": [
    "number = 50\n",
    "threshold = 1\n",
    "res = 255*np.ones(shape=(gray.shape[0],gray.shape[1]))\n",
    "line_dict = {}\n",
    "nail_positions = generate_nail_positions(center, radius, number)"
   ]
  },
  {
   "cell_type": "code",
   "execution_count": null,
   "id": "played-lesson",
   "metadata": {},
   "outputs": [],
   "source": [
    "current_idx = 0\n",
    "for n in range(20):\n",
    "    print(n)\n",
    "    m = math.inf\n",
    "    possible_next_ways = possible_next_nails(current_idx, len(nail_positions),threshold)\n",
    "    #start_time = time.time()\n",
    "    for i in possible_next_ways:     \n",
    "        tmp_res = add_line(current_idx,i,nail_positions,res,line_dict)        \n",
    "        tmp_m = distance_image(tmp_res,gray_crop)\n",
    "        if tmp_m < m:\n",
    "            m = tmp_m\n",
    "            min_res = tmp_res\n",
    "            next_position = i\n",
    "    res = min_res\n",
    "    current_idx = next_position\n",
    "    #print(\"--- add_line2 %s seconds ---\" % (time.time() - start_time))\n",
    "    #print(\"distance: \"+str(m))\n",
    "plot_gray(res)"
   ]
  },
  {
   "cell_type": "code",
   "execution_count": null,
   "id": "western-colleague",
   "metadata": {},
   "outputs": [],
   "source": [
    "plot_gray(res)"
   ]
  },
  {
   "cell_type": "markdown",
   "id": "published-birthday",
   "metadata": {},
   "source": [
    "test"
   ]
  },
  {
   "cell_type": "code",
   "execution_count": null,
   "id": "configured-usage",
   "metadata": {},
   "outputs": [],
   "source": [
    "number = 400\n",
    "threshold = 1\n",
    "nail_positions = generate_nail_positions(center, radius, number)"
   ]
  },
  {
   "cell_type": "code",
   "execution_count": null,
   "id": "greenhouse-blackberry",
   "metadata": {},
   "outputs": [],
   "source": [
    "test_image = 255*np.ones(shape=(gray.shape[0],gray.shape[1]))\n",
    "plot_gray(test_image)"
   ]
  },
  {
   "cell_type": "code",
   "execution_count": null,
   "id": "expanded-sleeping",
   "metadata": {},
   "outputs": [],
   "source": [
    "test_image"
   ]
  },
  {
   "cell_type": "code",
   "execution_count": null,
   "id": "protective-cable",
   "metadata": {},
   "outputs": [],
   "source": [
    "number = 10\n",
    "threshold = 1\n",
    "nail_positions = generate_nail_positions(center, radius, number)"
   ]
  },
  {
   "cell_type": "code",
   "execution_count": null,
   "id": "psychological-calcium",
   "metadata": {},
   "outputs": [],
   "source": [
    "nail_positions[20]"
   ]
  },
  {
   "cell_type": "code",
   "execution_count": null,
   "id": "going-injury",
   "metadata": {},
   "outputs": [],
   "source": [
    "line = [nail_positions[20],nail_positions[359]]\n",
    "line_matrix = generate_line_matrix(line,test_image.shape)"
   ]
  },
  {
   "cell_type": "code",
   "execution_count": null,
   "id": "manufactured-college",
   "metadata": {},
   "outputs": [],
   "source": [
    "line_matrix[562][653]"
   ]
  },
  {
   "cell_type": "code",
   "execution_count": null,
   "id": "cardiovascular-biology",
   "metadata": {},
   "outputs": [],
   "source": [
    "plot_gray(line_matrix)"
   ]
  },
  {
   "cell_type": "code",
   "execution_count": null,
   "id": "corrected-smart",
   "metadata": {},
   "outputs": [],
   "source": [
    "plot_gray(add_line(20,359,nail_positions,test_image,{}))"
   ]
  },
  {
   "cell_type": "code",
   "execution_count": null,
   "id": "neutral-tourism",
   "metadata": {},
   "outputs": [],
   "source": [
    "test_image = 255*np.ones(shape=(gray.shape[0],gray.shape[1]))\n",
    "for i in range(9):\n",
    "    test_image = add_line(i,i+1,nail_positions,test_image,{})\n",
    "plot_gray(test_image)"
   ]
  },
  {
   "cell_type": "code",
   "execution_count": null,
   "id": "statewide-emergency",
   "metadata": {},
   "outputs": [],
   "source": [
    "test_image = 255*np.ones(shape=(gray.shape[0],gray.shape[1]))\n",
    "test_image = add_line(0,1,nail_positions,test_image,{})\n",
    "test_image = add_line(0,7,nail_positions,test_image,{})\n",
    "plot_gray(test_image)"
   ]
  },
  {
   "cell_type": "code",
   "execution_count": null,
   "id": "muslim-inflation",
   "metadata": {},
   "outputs": [],
   "source": [
    "nail_positions"
   ]
  },
  {
   "cell_type": "code",
   "execution_count": null,
   "id": "friendly-spring",
   "metadata": {},
   "outputs": [],
   "source": [
    "test_image = 255*np.ones(shape=(gray.shape[0],gray.shape[1]))\n",
    "for j in range(10):\n",
    "    for i in range(9):\n",
    "        test_image = add_line(i,i+1,nail_positions,test_image,{})\n",
    "    test_image = add_line(9,0,nail_positions,test_image,{})\n",
    "plot_gray(test_image)"
   ]
  },
  {
   "cell_type": "code",
   "execution_count": null,
   "id": "instructional-zimbabwe",
   "metadata": {},
   "outputs": [],
   "source": [
    "test_image"
   ]
  },
  {
   "cell_type": "code",
   "execution_count": null,
   "id": "compound-robinson",
   "metadata": {},
   "outputs": [],
   "source": [
    "test_image = 255*np.ones(shape=(gray.shape[0],gray.shape[1]))\n",
    "for j in range(10):\n",
    "    for i in range(9):\n",
    "        test_image = add_line(i,i+1,nail_positions,test_image,{})\n",
    "    test_image = add_line(9,0,nail_positions,test_image,{})\n",
    "for i in range(test_image.shape[1]):\n",
    "    if (i<450) or (i>500):\n",
    "        continue\n",
    "    for j in range(test_image.shape[0]):\n",
    "        test_image[j][i]=0"
   ]
  },
  {
   "cell_type": "code",
   "execution_count": null,
   "id": "mexican-tuner",
   "metadata": {},
   "outputs": [],
   "source": [
    "plot_gray(test_image)"
   ]
  },
  {
   "cell_type": "code",
   "execution_count": null,
   "id": "motivated-superior",
   "metadata": {},
   "outputs": [],
   "source": [
    "nail_positions[0]"
   ]
  },
  {
   "cell_type": "code",
   "execution_count": null,
   "id": "increasing-disabled",
   "metadata": {},
   "outputs": [],
   "source": [
    "test_image = 255*np.ones(shape=(gray.shape[0],gray.shape[1]))\n",
    "for i in range(test_image.shape[1]):\n",
    "    if (i<450) or (i>500):\n",
    "        continue\n",
    "    for j in range(test_image.shape[0]):\n",
    "        test_image[j][i]=0\n",
    "plot_gray(test_image)"
   ]
  },
  {
   "cell_type": "code",
   "execution_count": null,
   "id": "played-bloom",
   "metadata": {},
   "outputs": [],
   "source": [
    "test_crop = crop_image_circle(test_image,center,radius)\n",
    "plot_gray(test_crop)"
   ]
  },
  {
   "cell_type": "code",
   "execution_count": null,
   "id": "joint-canberra",
   "metadata": {},
   "outputs": [],
   "source": [
    "number = 400\n",
    "threshold = 1\n",
    "res = 255*np.ones(shape=(gray.shape[0],gray.shape[1]))\n",
    "line_dict = {}\n",
    "nail_positions = generate_nail_positions(center, radius, number)\n",
    "current_idx = 40"
   ]
  },
  {
   "cell_type": "code",
   "execution_count": null,
   "id": "regulated-trunk",
   "metadata": {},
   "outputs": [],
   "source": [
    "for n in range(1):\n",
    "    #print(n)\n",
    "    m = math.inf\n",
    "    possible_next_ways = possible_next_nails(current_idx, len(nail_positions),threshold)\n",
    "    #start_time = time.time()\n",
    "    for i in possible_next_ways:     \n",
    "        tmp_res = add_line(current_idx,i,nail_positions,res,{})        \n",
    "        tmp_m = distance_image(tmp_res,test_crop)\n",
    "        if tmp_m < m:\n",
    "            m = tmp_m\n",
    "            min_res = tmp_res\n",
    "            next_position = i\n",
    "    res = min_res\n",
    "    print(str(current_idx)+'->'+str(next_position))\n",
    "    current_idx = next_position\n",
    "    \n",
    "    #print(\"--- add_line2 %s seconds ---\" % (time.time() - start_time))\n",
    "    print(\"distance: \"+str(m))\n",
    "plot_gray(res)"
   ]
  },
  {
   "cell_type": "code",
   "execution_count": null,
   "id": "decimal-criterion",
   "metadata": {},
   "outputs": [],
   "source": [
    "nail_positions[40]"
   ]
  },
  {
   "cell_type": "code",
   "execution_count": null,
   "id": "incredible-clothing",
   "metadata": {},
   "outputs": [],
   "source": [
    "nail_positions[396]"
   ]
  },
  {
   "cell_type": "code",
   "execution_count": null,
   "id": "visible-regulation",
   "metadata": {},
   "outputs": [],
   "source": []
  }
 ],
 "metadata": {
  "kernelspec": {
   "display_name": "Python 3",
   "language": "python",
   "name": "python3"
  },
  "language_info": {
   "codemirror_mode": {
    "name": "ipython",
    "version": 3
   },
   "file_extension": ".py",
   "mimetype": "text/x-python",
   "name": "python",
   "nbconvert_exporter": "python",
   "pygments_lexer": "ipython3",
   "version": "3.6.9"
  }
 },
 "nbformat": 4,
 "nbformat_minor": 5
}
